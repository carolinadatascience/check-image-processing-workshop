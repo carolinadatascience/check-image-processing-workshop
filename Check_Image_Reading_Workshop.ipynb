{
  "nbformat": 4,
  "nbformat_minor": 0,
  "metadata": {
    "colab": {
      "provenance": []
    },
    "kernelspec": {
      "name": "python2",
      "display_name": "Python 2"
    }
  },
  "cells": [
    {
      "cell_type": "markdown",
      "source": [
        "# Check Image Reading Workshop: Remote Deposit Capturing"
      ],
      "metadata": {
        "id": "Mg6ydPNyqCMx"
      }
    },
    {
      "cell_type": "markdown",
      "source": [
        "#### Install and load packages\n",
        "- `tesseract` uses optical character recognition (OCR) technology to get text from an image\n",
        "- `cv2` has many image processing functions"
      ],
      "metadata": {
        "id": "QlmYzKVSBwwT"
      }
    },
    {
      "metadata": {
        "id": "uWwpI-24_Nob"
      },
      "cell_type": "code",
      "source": [
        "!sudo apt install tesseract-ocr"
      ],
      "execution_count": null,
      "outputs": []
    },
    {
      "metadata": {
        "id": "ujL16dZ2_O-3"
      },
      "cell_type": "code",
      "source": [
        "!pip install pytesseract"
      ],
      "execution_count": null,
      "outputs": []
    },
    {
      "metadata": {
        "id": "QKJh7JjTAqzO"
      },
      "cell_type": "code",
      "source": [
        "import pytesseract\n",
        "import shutil\n",
        "import os\n",
        "import random\n",
        "import cv2\n",
        "import numpy as np\n",
        "try:\n",
        "    from PIL import Image\n",
        "except ImportError:\n",
        "    import Image"
      ],
      "execution_count": null,
      "outputs": []
    },
    {
      "cell_type": "markdown",
      "source": [
        "#### Upload fake check image:\n",
        "Usually better to use file upload function but you can also use this code"
      ],
      "metadata": {
        "id": "1DrPnL-RBt3z"
      }
    },
    {
      "metadata": {
        "id": "8zmc-K_nAyg1"
      },
      "cell_type": "code",
      "source": [
        "from google.colab import files\n",
        "\n",
        "uploaded = files.upload()"
      ],
      "execution_count": null,
      "outputs": []
    },
    {
      "cell_type": "markdown",
      "source": [
        "#### Get raw image read:"
      ],
      "metadata": {
        "id": "oRpcThmUBpU3"
      }
    },
    {
      "metadata": {
        "id": "HaM3cMUDA_Ma"
      },
      "cell_type": "code",
      "source": [
        "extractedInformation = pytesseract.image_to_string(Image.open('check1.png'))\n",
        "print(extractedInformation)"
      ],
      "execution_count": null,
      "outputs": []
    },
    {
      "cell_type": "markdown",
      "source": [
        "#### Get image read with improvements to quality using GIMP software:\n",
        "More information about GIMP [here](https://www.gimp.org/)"
      ],
      "metadata": {
        "id": "EiguAVs6jCIe"
      }
    },
    {
      "cell_type": "code",
      "source": [
        "extractedInformationGIMP = pytesseract.image_to_string(Image.open('GIMPcheck.png'))\n",
        "print(extractedInformationGIMP)"
      ],
      "metadata": {
        "id": "Cr2nXxZpjBaG"
      },
      "execution_count": null,
      "outputs": []
    },
    {
      "cell_type": "markdown",
      "source": [
        "#### Get image read with improvements using `cv2` package:"
      ],
      "metadata": {
        "id": "bQxrI3-rjqMX"
      }
    },
    {
      "metadata": {
        "id": "Key-3vILBNUd"
      },
      "cell_type": "code",
      "source": [
        "#read image\n",
        "img = cv2.imread('check1.png')\n",
        "#resize image\n",
        "img = cv2.resize(img, None, fx=2, fy=2, interpolation=cv2.INTER_CUBIC)\n",
        "#change to grayscale\n",
        "img = cv2.cvtColor(img, cv2.COLOR_BGR2GRAY)\n",
        "kernel = np.ones((1,1), np.uint8)\n",
        "img = cv2.dilate(img, kernel, iterations=1)\n",
        "img = cv2.erode(img, kernel, iterations=1)\n",
        "#apply thresholding\n",
        "img = cv2.threshold(cv2.medianBlur(img, 3), 0, 255, cv2.THRESH_BINARY + cv2.THRESH_OTSU)[1]\n",
        "#convert image to text\n",
        "txt = pytesseract.image_to_string(img ,lang = 'eng')\n",
        "print(txt)"
      ],
      "execution_count": null,
      "outputs": []
    },
    {
      "cell_type": "markdown",
      "source": [
        "#### Adjust page segmentation mode (PSM):\n",
        "- Run `tesseract --help-psm` in command line for more information"
      ],
      "metadata": {
        "id": "BHZWxLZkkxkT"
      }
    },
    {
      "cell_type": "code",
      "source": [
        "for psm in range(6,13+1):\n",
        "    config = '--oem 3 --psm %d' % psm\n",
        "    txt = pytesseract.image_to_string(img, config = config, lang='eng')\n",
        "    print('psm ', psm, ':',txt)"
      ],
      "metadata": {
        "id": "8peNl4YKR8TY"
      },
      "execution_count": null,
      "outputs": []
    },
    {
      "cell_type": "markdown",
      "source": [
        "### Try it yourself with a handwritten check!\n",
        "- Write check\n",
        "- Scan it or take picture\n",
        "- Make sure it's saved as PNG\n",
        "- Upload to google colab files\n",
        "- Copy the code above and try adjusting the preprocessing options to get a better read\n"
      ],
      "metadata": {
        "id": "r1xL7c5XoWSq"
      }
    },
    {
      "cell_type": "code",
      "source": [
        "#using example handwritten check\n",
        "extractedInformation = pytesseract.image_to_string(Image.open('check2.png'))\n",
        "print(extractedInformation)"
      ],
      "metadata": {
        "id": "PAB52HxmoYtH"
      },
      "execution_count": null,
      "outputs": []
    }
  ]
}